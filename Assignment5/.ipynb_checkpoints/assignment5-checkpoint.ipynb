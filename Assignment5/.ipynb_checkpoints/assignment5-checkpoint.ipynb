{
 "cells": [
  {
   "cell_type": "code",
   "execution_count": 51,
   "metadata": {},
   "outputs": [],
   "source": [
    "import numpy as np\n",
    "import pandas as pd\n",
    "import matplotlib.pyplot as plt\n",
    "import matplotlib.dates as mdate\n",
    "import sklearn\n",
    "import datetime\n",
    "from sklearn import datasets, linear_model, metrics\n",
    "%matplotlib inline"
   ]
  },
  {
   "cell_type": "code",
   "execution_count": 60,
   "metadata": {
    "scrolled": false
   },
   "outputs": [
    {
     "name": "stdout",
     "output_type": "stream",
     "text": [
      "[[ -4.18548395e-05]]\n",
      "[ 61994.37153161]\n"
     ]
    },
    {
     "data": {
      "image/png": "[encoded data removed]",
      "text/plain": [
       "<matplotlib.figure.Figure at 0xf997bb0>"
      ]
     },
     "metadata": {},
     "output_type": "display_data"
    }
   ],
   "source": [
    "# Part 1\n",
    "\n",
    "df = pd.read_json('users.json').dropna(subset=['created','karma'], how='all')\n",
    "df = df.drop(['about', 'error', 'id'], axis=1)\n",
    "\n",
    "# read_json() changes dtypes of 'created' and 'karma' to float64 for some reason\n",
    "# Casting them to integers so we can actually use them\n",
    "df['created'] = df['created'].astype(int).values.reshape(-1,1)\n",
    "df['karma'] = df['karma'].astype(int).values.reshape(-1,1)\n",
    "\n",
    "X_tr, X_te, Y_tr, Y_te = sklearn.model_selection.train_test_split(df['created'].values, df['karma'].values, test_size=0.20, random_state=5)\n",
    "\n",
    "regr = linear_model.LinearRegression()\n",
    "\n",
    "# Training the linear regression model.\n",
    "regr.fit(X_tr.reshape(-1,1),Y_tr.reshape(-1,1))\n",
    "\n",
    "pred = regr.predict(X_te.reshape(-1,1))\n",
    "\n",
    "fig, ax = plt.subplots()\n",
    "\n",
    "# Scatter plot\n",
    "plt.scatter(X_te,Y_te)\n",
    "plt.xlabel('Created')\n",
    "plt.ylabel('Karma')\n",
    "plt.plot(X_te,pred, color='black', linewidth=3)\n",
    "\n",
    "# A\n",
    "coef = regr.coef_\n",
    "# B\n",
    "intercept = regr.intercept_\n",
    "\n",
    "print(coef)\n",
    "print(intercept)\n",
    "\n",
    "# The coefficient describes the rate at which the response variable changes for every change in the predictor.\n",
    "# The intercept is the mean of Y when X is 0, but since we have no X-values at 0, the intercept has no real meaning.\n",
    "# The coefficient is in negative, so the X-value decreases when the Y-value increases, meaning it is an inverse relationship.\n",
    "# The intercept, as mentioned, is meaningless in a sample with only non-0 values.\n"
   ]
  },
  {
   "cell_type": "code",
   "execution_count": 13,
   "metadata": {
    "scrolled": false
   },
   "outputs": [
    {
     "name": "stdout",
     "output_type": "stream",
     "text": [
      "Test data: 4366.59123274\n",
      "Training data: 4482.32480631\n"
     ]
    }
   ],
   "source": [
    "# Part 2\n",
    "\n",
    "print('Test data: ' + str(metrics.mean_absolute_error(Y_te,pred)))\n",
    "print('Training data: ' + str(metrics.mean_absolute_error(Y_tr,regr.predict(X_tr.reshape(-1,1)))))\n",
    "\n",
    "# The smaller the numbers, the better the model fits the sample we're using.\n",
    "# The numbers skew very far away from 0, making the MAE model very inefficient for our sample due to a few outliers."
   ]
  },
  {
   "cell_type": "code",
   "execution_count": 14,
   "metadata": {},
   "outputs": [
    {
     "name": "stdout",
     "output_type": "stream",
     "text": [
      "Test data: 78059377.8934\n",
      "Training data: 100613209.759\n"
     ]
    }
   ],
   "source": [
    "# Part 3\n",
    "\n",
    "print('Test data: ' + str(metrics.mean_squared_error(Y_te, pred)))\n",
    "print('Training data: ' + str(metrics.mean_squared_error(Y_tr,regr.predict(X_tr.reshape(-1,1)))))\n",
    "\n",
    "# Again, the smaller the number, the better the model fits. Evidently, the MSE fits even worse for our sample.\n",
    "# MSE is even less robust towards outliers than MAE, and our sample has a few very large outliers."
   ]
  },
  {
   "cell_type": "code",
   "execution_count": 15,
   "metadata": {},
   "outputs": [
    {
     "name": "stdout",
     "output_type": "stream",
     "text": [
      "Test data: 0.132688206996\n",
      "Training data: 0.127692903639\n"
     ]
    }
   ],
   "source": [
    "# Part 4\n",
    "\n",
    "print('Test data: ' + str(metrics.r2_score(Y_te, pred)))\n",
    "print('Training data: ' + str(metrics.r2_score(Y_tr,regr.predict(X_tr.reshape(-1,1)))))\n",
    "\n",
    "# This time, the numbers have approached very close to 0, making Pearson's r easily the best-fitting model.\n",
    "# When large outliers are involved, squared models seemingly perform much better."
   ]
  },
  {
   "cell_type": "code",
   "execution_count": 16,
   "metadata": {},
   "outputs": [],
   "source": [
    "# Part 5\n",
    "\n",
    "# If we assume that the values in the 'created' represent a timestamp in Unix epoch time,\n",
    "# we can assume that to a lesser degree, the earlier you created your account, the higher your chances are.\n",
    "# However, the presence of numerous outliers also suggests that there is perhaps a certain element of luck involved.\n",
    "# The average concentration of karma is very low at every point of the X-axis, so it seems likely that registration date is not the primary factor.\n",
    "\n",
    "# The prediction seems fairly accurate due to the very low score through Pearson's r, and would not have been if there was no model supporting the prediction.\n",
    "# The prediction could perhaps be made more accurate with a much larger sample, as well as slightly more clarity on the meaning of the data therein."
   ]
  }
 ],
 "metadata": {
  "kernelspec": {
   "display_name": "Python 3",
   "language": "python",
   "name": "python3"
  },
  "language_info": {
   "codemirror_mode": {
    "name": "ipython",
    "version": 3
   },
   "file_extension": ".py",
   "mimetype": "text/x-python",
   "name": "python",
   "nbconvert_exporter": "python",
   "pygments_lexer": "ipython3",
   "version": "3.6.2"
  }
 },
 "nbformat": 4,
 "nbformat_minor": 2
}
